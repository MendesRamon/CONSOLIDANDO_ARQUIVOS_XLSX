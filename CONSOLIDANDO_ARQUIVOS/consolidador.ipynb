{
 "cells": [
  {
   "cell_type": "markdown",
   "metadata": {},
   "source": [
    "### Consolidando vários arquivos .xlsx em um único DataFrame\n",
    "\n",
    "##### OBSERVAÇÕES:\n",
    "\n",
    "Ao setar o path dos arquivos é preciso ter prévio conhecimento das bases para que se consolide de forma correta e se há extenções diferente de planilha. \n",
    "\n",
    "*Exemplo: .xlsm*"
   ]
  },
  {
   "cell_type": "code",
   "execution_count": 10,
   "metadata": {},
   "outputs": [],
   "source": [
    "#importação de bibliotecas para a automação e tratamento de dados\n",
    "import os\n",
    "import pandas as pd"
   ]
  },
  {
   "cell_type": "code",
   "execution_count": 11,
   "metadata": {},
   "outputs": [],
   "source": [
    "#local dos arquivos\n",
    "caminho = r'C:/Users/Lenovo/Desktop/PROJETOS_AUTOMACAO/CONSOLIDANDO_ARQUIVOS/BASE'\n",
    "#setando diretorio dos arquivos\n",
    "os.chdir(caminho)"
   ]
  },
  {
   "cell_type": "code",
   "execution_count": 12,
   "metadata": {},
   "outputs": [
    {
     "data": {
      "text/plain": [
       "['Pasta1.xlsx', 'Pasta2.xlsx', 'Pasta3.xlsx']"
      ]
     },
     "execution_count": 12,
     "metadata": {},
     "output_type": "execute_result"
    }
   ],
   "source": [
    "#visualizando arquivos do diretório\n",
    "arquivos =  os.listdir()\n",
    "arquivos"
   ]
  },
  {
   "cell_type": "code",
   "execution_count": 13,
   "metadata": {},
   "outputs": [],
   "source": [
    "#lista  a ser populada\n",
    "consolidado = []\n",
    "#looping pegando todos os arquivos\n",
    "for pasta in arquivos:\n",
    "    if pasta.endswith('xlsx'): #filtro do tipo de arquivo por extensão\n",
    "       consolidado.append(pd.read_excel(pasta))\n",
    "\n",
    "tabela = pd.concat(consolidado, ignore_index= True , axis=0)"
   ]
  },
  {
   "cell_type": "markdown",
   "metadata": {},
   "source": [
    "### Integração com SGBD e armazenamento dos dados\n",
    "\n",
    "Para essa etapa é necessário que os dados tenham sido tratados anteriormente *(exemplo: filtros, tipagem, seleção de colunas)*"
   ]
  },
  {
   "cell_type": "code",
   "execution_count": 14,
   "metadata": {},
   "outputs": [],
   "source": [
    "#importação da biblioteca para conexão com o banco de dados\n",
    "import pyodbc\n",
    "import pandas as pd"
   ]
  },
  {
   "cell_type": "code",
   "execution_count": 15,
   "metadata": {},
   "outputs": [],
   "source": [
    "# Configurações do banco de dados Access\n",
    "db_path = r'C:\\Users\\Lenovo\\Desktop\\PROJETOS_AUTOMACAO\\CONSOLIDANDO_ARQUIVOS\\BANCO_DADOS\\BANCO_DE_DADOS.accdb'\n",
    "driver = 'Microsoft Access Driver (*.mdb, *.accdb)'\n",
    "\n",
    "# String de conexão\n",
    "conn_str = f'DRIVER={{{driver}}};DBQ={db_path};'\n",
    "\n",
    "# Conectar ao banco de dados\n",
    "conn = pyodbc.connect(conn_str)\n",
    "#onde será feito scripts sql\n",
    "cursor = conn.cursor()\n",
    "\n",
    "#limpando o banco de dados - uma vez que o diretório sempre terá os arquivos\n",
    "consulta = cursor.execute('DELETE FROM tabela_teste WHERE Id >= 1')"
   ]
  },
  {
   "cell_type": "code",
   "execution_count": 16,
   "metadata": {},
   "outputs": [],
   "source": [
    "#looping insert no banco de  dados\n",
    "for lin in range(tabela.index.max() + 1):\n",
    "    num = tabela.loc[lin][1]\n",
    "    letras = tabela.loc[lin][0]\n",
    "\n",
    "    #inserindo valores no BD\n",
    "    insert_comando = f\"\"\"\n",
    "    INSERT INTO tabela_teste(LETRA, NUMERO) \n",
    "    VALUES\n",
    "    ('{letras}', {num})\"\"\"\n",
    "\n",
    "    cursor.execute(insert_comando)\n",
    "    cursor.commit()"
   ]
  },
  {
   "cell_type": "code",
   "execution_count": 17,
   "metadata": {},
   "outputs": [],
   "source": [
    "#executando consulta SQL\n",
    "consulta = cursor.execute('SELECT * FROM tabela_teste')\n",
    "\n",
    "#lista - cabeçalho\n",
    "colunas = [column[0] for column in cursor.description]\n",
    "#lista - linhas\n",
    "linhas = cursor.fetchall()\n",
    "#transformando em tabela\n",
    "tab_consulta = pd.DataFrame.from_records(linhas, columns=colunas)"
   ]
  },
  {
   "cell_type": "code",
   "execution_count": 18,
   "metadata": {},
   "outputs": [
    {
     "name": "stdout",
     "output_type": "stream",
     "text": [
      "Dados inseridos no BD com sucesso!\n"
     ]
    }
   ],
   "source": [
    "#fechar a conexão com o BD\n",
    "conn.close()\n",
    "\n",
    "print(\"Dados inseridos no BD com sucesso!\")"
   ]
  }
 ],
 "metadata": {
  "kernelspec": {
   "display_name": "base",
   "language": "python",
   "name": "python3"
  },
  "language_info": {
   "codemirror_mode": {
    "name": "ipython",
    "version": 3
   },
   "file_extension": ".py",
   "mimetype": "text/x-python",
   "name": "python",
   "nbconvert_exporter": "python",
   "pygments_lexer": "ipython3",
   "version": "3.11.5"
  }
 },
 "nbformat": 4,
 "nbformat_minor": 2
}
